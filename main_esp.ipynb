{
 "cells": [
  {
   "cell_type": "markdown",
   "id": "b4ba9fdc",
   "metadata": {},
   "source": [
    "### 1. Calcular la duración media del alquiler (en días) para cada película:"
   ]
  },
  {
   "cell_type": "markdown",
   "id": "ca70ce77",
   "metadata": {},
   "source": [
    "```sql\n",
    "-- Your code down below\n",
    "```\n",
    "\n",
    "SELECT \n",
    "    f.title AS \"title\",\n",
    "    f.rental_duration AS \"rental_duration\",\n",
    "    AVG(DATEDIFF(r.return_date, r.rental_date)) AS \"avg_rental_duration\"\n",
    "FROM \n",
    "    rental r\n",
    "    JOIN inventory i ON r.inventory_id = i.inventory_id\n",
    "    JOIN film f ON i.film_id = f.film_id\n",
    "GROUP BY \n",
    "    f.title, f.rental_duration\n",
    "ORDER BY \n",
    "    f.title;"
   ]
  },
  {
   "cell_type": "markdown",
   "id": "976e6175",
   "metadata": {},
   "source": [
    "|title|rental_duration|avg_rental_duration|\n",
    "|-----|---------------|-------------------|\n",
    "|ACADEMY DINOSAUR|6              |4.9850             |\n",
    "|ACE GOLDFINGER|3              |4.9850             |\n",
    "|ADAPTATION HOLES|7              |4.9850             |\n",
    "|AFFAIR PREJUDICE|5              |4.9850             |\n",
    "|AFRICAN EGG|6              |4.9850             |\n",
    "|AGENT TRUMAN|3              |4.9850             |\n",
    "|AIRPLANE SIERRA|6              |4.9850             |\n",
    "|AIRPORT POLLOCK|6              |4.9850             |\n",
    "|ALABAMA DEVIL|3              |4.9850             |\n",
    "|ALADDIN CALENDAR|6              |4.9850             |\n",
    "|ALAMO VIDEOTAPE|6              |4.9850             |\n",
    "|ALASKA PHANTOM|6              |4.9850             |\n",
    "|ALI FOREVER|4              |4.9850             |\n",
    "|ALICE FANTASIA|6              |4.9850             |\n"
   ]
  },
  {
   "cell_type": "markdown",
   "id": "c7f7ea37",
   "metadata": {},
   "source": [
    "### 2. Calcular el importe medio de los pagos para cada miembro del personal:"
   ]
  },
  {
   "cell_type": "markdown",
   "id": "a7195632",
   "metadata": {},
   "source": [
    "```sql\n",
    "-- Your code down below\n",
    "```\n",
    "\n",
    "SELECT \n",
    "    p.staff_id,\n",
    "    AVG(p.amount) AS avg_payment_amount\n",
    "FROM \n",
    "    payment p\n",
    "GROUP BY \n",
    "    p.staff_id\n",
    "ORDER BY \n",
    "    p.staff_id;"
   ]
  },
  {
   "cell_type": "markdown",
   "id": "fc636d47",
   "metadata": {},
   "source": [
    "#### Output\n",
    "\n",
    "|staff_id|avg_payment_amount|\n",
    "|--------|------------------|\n",
    "|1       |4.156568          |\n",
    "|1       |4.156568          |\n",
    "|1       |4.156568          |\n",
    "|1       |4.156568          |\n",
    "|1       |4.156568          |\n",
    "|1       |4.156568          |\n",
    "|1       |4.156568          |"
   ]
  },
  {
   "cell_type": "markdown",
   "id": "d307de0e",
   "metadata": {},
   "source": [
    "### 3. Calcular los ingresos totales para cada cliente, mostrando el total acumulado dentro del historial de alquileres de cada cliente:"
   ]
  },
  {
   "cell_type": "markdown",
   "id": "6130585f",
   "metadata": {},
   "source": [
    "```sql\n",
    "-- Your code down below\n",
    "```"
   ]
  },
  {
   "cell_type": "markdown",
   "id": "321655d4",
   "metadata": {},
   "source": [
    "#### Output\n",
    "\n",
    "|customer_id|rental_id|rental_date        |amount|running_total|\n",
    "|-----------|---------|-------------------|------|-------------|\n",
    "|1          |76       |2005-05-25 11:30:37|2.99  |2.99         |\n",
    "|1          |573      |2005-05-28 10:35:23|0.99  |3.98         |\n",
    "|1          |1185     |2005-06-15 00:54:12|5.99  |9.97         |\n",
    "|1          |1422     |2005-06-15 18:02:53|0.99  |10.96        |\n",
    "|1          |1476     |2005-06-15 21:08:46|9.99  |20.95        |\n",
    "|1          |1725     |2005-06-16 15:18:57|4.99  |25.94        |\n",
    "|1          |2308     |2005-06-18 08:41:48|4.99  |30.93        |\n",
    "|1          |2363     |2005-06-18 13:33:59|0.99  |31.92        |\n",
    "|1          |3284     |2005-06-21 06:24:45|3.99  |35.91        |\n",
    "|1          |4526     |2005-07-08 03:17:05|5.99  |41.90        |"
   ]
  },
  {
   "cell_type": "markdown",
   "id": "e4eb28f2",
   "metadata": {},
   "source": [
    "### 4. Determinar el cuartil para las tarifas de alquiler de las películas"
   ]
  },
  {
   "cell_type": "markdown",
   "id": "49564fdf",
   "metadata": {},
   "source": [
    "```sql\n",
    "-- Your code down below\n",
    "```\n",
    "SELECT \n",
    "    p.customer_id,\n",
    "    r.rental_id,\n",
    "    r.rental_date,\n",
    "    p.amount,\n",
    "    SUM(p.amount) OVER (PARTITION BY p.customer_id ORDER BY r.rental_date, r.rental_id) AS running_total\n",
    "FROM \n",
    "    payment p\n",
    "    JOIN rental r ON p.rental_id = r.rental_id\n",
    "ORDER BY \n",
    "    p.customer_id, r.rental_date, r.rental_id;"
   ]
  },
  {
   "cell_type": "markdown",
   "id": "2e644f07",
   "metadata": {},
   "source": [
    "#### Output\n",
    "\n",
    "|title|rental_rate|quartile           |\n",
    "|-----|-----------|-------------------|\n",
    "|ACADEMY DINOSAUR|0.99       |1                  |\n",
    "|ALAMO VIDEOTAPE|0.99       |1                  |\n",
    "|ALASKA PHANTOM|0.99       |1                  |\n",
    "|ALICE FANTASIA|0.99       |1                  |\n",
    "|ALONE TRIP|0.99       |1                  |\n",
    "|ALTER VICTORY|0.99       |1                  |\n",
    "|AMADEUS HOLY|0.99       |1                  |\n",
    "|ANACONDA CONFESSIONS|0.99       |1                  |\n",
    "|ANNIE IDENTITY|0.99       |1                  |\n",
    "|ANONYMOUS HUMAN|0.99       |1                  |\n"
   ]
  },
  {
   "cell_type": "markdown",
   "id": "dba9ef04",
   "metadata": {},
   "source": [
    "### 5. Determinar la primera y última fecha de alquiler para cada cliente:"
   ]
  },
  {
   "cell_type": "markdown",
   "id": "84bd863c",
   "metadata": {},
   "source": [
    "```sql\n",
    "-- Your code down below\n",
    "```\n",
    "SELECT \n",
    "    r.customer_id,\n",
    "    MIN(r.rental_date) OVER (PARTITION BY r.customer_id) AS first_rental_date,\n",
    "    MAX(r.rental_date) OVER (PARTITION BY r.customer_id) AS last_rental_date\n",
    "FROM \n",
    "    rental r\n",
    "ORDER BY \n",
    "    r.customer_id, r.rental_date;"
   ]
  },
  {
   "cell_type": "markdown",
   "id": "d95dab7b",
   "metadata": {},
   "source": [
    "#### Expected result\n",
    "\n",
    "|customer_id|first_rental_date|last_rental_date   |\n",
    "|-----------|-----------------|-------------------|\n",
    "|1          |2005-05-25 11:30:37|2005-08-22 20:03:46|\n",
    "|1          |2005-05-25 11:30:37|2005-08-22 20:03:46|\n",
    "|1          |2005-05-25 11:30:37|2005-08-22 20:03:46|\n",
    "|1          |2005-05-25 11:30:37|2005-08-22 20:03:46|\n",
    "|1          |2005-05-25 11:30:37|2005-08-22 20:03:46|\n",
    "|1          |2005-05-25 11:30:37|2005-08-22 20:03:46|\n",
    "|1          |2005-05-25 11:30:37|2005-08-22 20:03:46|\n",
    "|1          |2005-05-25 11:30:37|2005-08-22 20:03:46|\n",
    "|1          |2005-05-25 11:30:37|2005-08-22 20:03:46|\n",
    "|1          |2005-05-25 11:30:37|2005-08-22 20:03:46|\n",
    "|1          |2005-05-25 11:30:37|2005-08-22 20:03:46|\n",
    "|1          |2005-05-25 11:30:37|2005-08-22 20:03:46|\n",
    "|1          |2005-05-25 11:30:37|2005-08-22 20:03:46|\n"
   ]
  },
  {
   "cell_type": "markdown",
   "id": "fdda139f",
   "metadata": {},
   "source": [
    "### 6. Calcular el rango de los clientes basado en el número de sus alquileres:"
   ]
  },
  {
   "cell_type": "markdown",
   "id": "dde6cc37",
   "metadata": {},
   "source": [
    "```sql\n",
    "-- Your code down below\n",
    "```\n",
    "\n",
    "WITH rental_counts AS (\n",
    "    SELECT \n",
    "        customer_id, \n",
    "        COUNT(*) AS rental_count\n",
    "    FROM \n",
    "        rental\n",
    "    GROUP BY \n",
    "        customer_id\n",
    ")\n",
    "\n",
    "SELECT \n",
    "    customer_id,\n",
    "    rental_count,\n",
    "    RANK() OVER (ORDER BY rental_count DESC) AS rental_count_rank\n",
    "FROM \n",
    "    rental_counts\n",
    "ORDER BY \n",
    "    rental_count_rank;"
   ]
  },
  {
   "cell_type": "markdown",
   "id": "29296a57",
   "metadata": {},
   "source": [
    "#### Expected output\n",
    "\n",
    "|customer_id|rental_count                 |rental_count_rank|\n",
    "|-----------|-----------------------------|-----------------|\n",
    "|148        |46                           |1                |\n",
    "|526        |45                           |2                |\n",
    "|144        |42                           |3                |\n",
    "|236        |42                           |3                |\n",
    "|75         |41                           |5                |\n",
    "|197        |40                           |6                |\n",
    "...|...|..."
   ]
  },
  {
   "cell_type": "markdown",
   "id": "ba05c1d1",
   "metadata": {},
   "source": [
    "### 7. Calcular el total acumulado de ingresos por día para la categoría de películas 'Familiar':"
   ]
  },
  {
   "cell_type": "markdown",
   "id": "4c9ebbce",
   "metadata": {},
   "source": [
    "```sql\n",
    "-- Your code down below\n",
    "```\n",
    "\n",
    "WITH family_films AS (\n",
    "    SELECT \n",
    "        f.film_id, \n",
    "        f.title\n",
    "    FROM \n",
    "        film f\n",
    "        JOIN film_category fc ON f.film_id = fc.film_id\n",
    "        JOIN category c ON fc.category_id = c.category_id\n",
    "    WHERE \n",
    "        c.name = 'Familiar'\n",
    "),\n",
    "daily_revenue AS (\n",
    "    SELECT \n",
    "        ff.title AS film_category,\n",
    "        r.rental_date,\n",
    "        p.amount,\n",
    "        SUM(p.amount) OVER (PARTITION BY DATE(r.rental_date) ORDER BY r.rental_date, r.rental_id) AS daily_revenue\n",
    "    FROM \n",
    "        payment p\n",
    "        JOIN rental r ON p.rental_id = r.rental_id\n",
    "        JOIN inventory i ON r.inventory_id = i.inventory_id\n",
    "        JOIN family_films ff ON i.film_id = ff.film_id\n",
    ")\n",
    "\n",
    "SELECT \n",
    "    film_category,\n",
    "    rental_date,\n",
    "    amount,\n",
    "    daily_revenue\n",
    "FROM \n",
    "    daily_revenue\n",
    "ORDER BY \n",
    "    rental_date, film_category;"
   ]
  },
  {
   "cell_type": "markdown",
   "id": "4802a08f",
   "metadata": {},
   "source": [
    "#### Expected ouput\n",
    "\n",
    "|film_category|rental_date                  |amount|daily_revenue|\n",
    "|-------------|-----------------------------|------|-------------|\n",
    "|BLANKET BEVERLY|2005-05-24 22:53:30          |2.99  |2.99         |\n",
    "|GRADUATE LORD|2005-05-24 23:03:39          |3.99  |3.99         |\n",
    "|LAWLESS VISION|2005-05-24 23:31:46          |4.99  |4.99         |\n",
    "|HANGING DEEP |2005-05-25 00:02:21          |5.99  |5.99         |\n",
    "|MONTEREY LABYRINTH|2005-05-25 00:31:15          |0.99  |0.99         |\n",
    "|SCISSORHANDS SLUMS|2005-05-25 01:48:41          |2.99  |2.99         |\n",
    "|EASY GLADIATOR|2005-05-25 03:41:50          |4.99  |4.99         |"
   ]
  },
  {
   "cell_type": "markdown",
   "id": "039b57eb",
   "metadata": {},
   "source": [
    "### 8. Asignar un ID único a cada pago dentro del historial de pagos de cada cliente:"
   ]
  },
  {
   "cell_type": "markdown",
   "id": "abcc5934",
   "metadata": {},
   "source": [
    "```sql\n",
    "-- Your code down below\n",
    "```\n",
    "SELECT \n",
    "    customer_id,\n",
    "    payment_id,\n",
    "    ROW_NUMBER() OVER (PARTITION BY customer_id ORDER BY payment_id) AS payment_sequence_id\n",
    "FROM \n",
    "    payment\n",
    "ORDER BY \n",
    "    customer_id, payment_id;\n"
   ]
  },
  {
   "cell_type": "markdown",
   "id": "88d9603a",
   "metadata": {},
   "source": [
    "|customer_id|payment_id|payment_sequence_id|\n",
    "|-----------|----------|-------------------|\n",
    "|1          |1         |1                  |\n",
    "|1          |2         |2                  |\n",
    "|1          |3         |3                  |\n",
    "|1          |4         |4                  |\n",
    "|1          |5         |5                  |\n",
    "|1          |6         |6                  |\n",
    "|1          |7         |7                  |\n",
    "|1          |8         |8                  |\n",
    "|1          |9         |9                  |\n",
    "|1          |10        |10                 |\n",
    "|1          |11        |11                 |\n",
    "|1          |12        |12                 |\n",
    "|1          |13        |13                 |\n",
    "|1          |14        |14                 |\n",
    "|1          |15        |15                 |\n",
    "|1          |16        |16                 |\n",
    "|1          |17        |17                 |\n",
    "|1          |18        |18                 |\n",
    "|1          |19        |19                 |\n",
    "|1          |20        |20                 |\n",
    "|1          |21        |21                 |\n",
    "|1          |22        |22                 |\n",
    "|1          |23        |23                 |\n",
    "|1          |24        |24                 |\n",
    "|1          |25        |25                 |\n",
    "|1          |26        |26                 |\n",
    "|1          |27        |27                 |\n",
    "|1          |28        |28                 |\n",
    "|1          |29        |29                 |\n",
    "|1          |30        |30                 |\n",
    "|1          |31        |31                 |\n",
    "|1          |32        |32                 |\n",
    "|2          |33        |1                  |\n",
    "|2          |34        |2                  |\n",
    "|2          |35        |3                  |\n",
    "|2          |36        |4                  |\n",
    "|2          |37        |5                  |\n",
    "|2          |38        |6                  |\n",
    "|2          |39        |7                  |\n",
    "|2          |40        |8                  |\n",
    "|2          |41        |9                  |\n",
    "|2          |42        |10                 |\n",
    "|2          |43        |11                 |\n",
    "|2          |44        |12                 |\n"
   ]
  },
  {
   "cell_type": "markdown",
   "id": "2585681e",
   "metadata": {},
   "source": [
    "### 9. Calcular la diferencia en días entre cada alquiler y el alquiler anterior para cada cliente:"
   ]
  },
  {
   "cell_type": "markdown",
   "id": "b1628e16",
   "metadata": {},
   "source": [
    "```sql\n",
    "-- Your code down below\n",
    "```\n",
    "\n",
    "WITH rental_dates AS (\n",
    "    SELECT \n",
    "        customer_id,\n",
    "        rental_id,\n",
    "        rental_date,\n",
    "        LAG(rental_date) OVER (PARTITION BY customer_id ORDER BY rental_date) AS previous_rental_date\n",
    "    FROM \n",
    "        rental\n",
    ")\n",
    "\n",
    "SELECT \n",
    "    customer_id,\n",
    "    rental_id,\n",
    "    rental_date,\n",
    "    previous_rental_date,\n",
    "    COALESCE(DATEDIFF(rental_date, previous_rental_date), 0) AS days_between_rentals\n",
    "FROM \n",
    "    rental_dates\n",
    "ORDER BY \n",
    "    customer_id, rental_date;"
   ]
  },
  {
   "cell_type": "markdown",
   "id": "cdb997aa",
   "metadata": {},
   "source": [
    "#### Expected output\n",
    "\n",
    "\n",
    "|customer_id|rental_id|rental_date        |previous_rental_date|days_between_rentals|\n",
    "|-----------|---------|-------------------|--------------------|--------------------|\n",
    "|1          |76       |2005-05-25 11:30:37|NULL                |NULL                |\n",
    "|1          |573      |2005-05-28 10:35:23|2005-05-25 11:30:37 |3                   |\n",
    "|1          |1185     |2005-06-15 00:54:12|2005-05-28 10:35:23 |18                  |\n",
    "|1          |1422     |2005-06-15 18:02:53|2005-06-15 00:54:12 |0                   |\n",
    "|1          |1476     |2005-06-15 21:08:46|2005-06-15 18:02:53 |0                   |\n",
    "|1          |1725     |2005-06-16 15:18:57|2005-06-15 21:08:46 |1                   |\n",
    "|1          |2308     |2005-06-18 08:41:48|2005-06-16 15:18:57 |2                   |\n",
    "|1          |2363     |2005-06-18 13:33:59|2005-06-18 08:41:48 |0                   |\n",
    "|1          |3284     |2005-06-21 06:24:45|2005-06-18 13:33:59 |3                   |\n",
    "|1          |4526     |2005-07-08 03:17:05|2005-06-21 06:24:45 |17                  |\n",
    "|1          |4611     |2005-07-08 07:33:56|2005-07-08 03:17:05 |0                   |\n",
    "\n"
   ]
  }
 ],
 "metadata": {
  "kernelspec": {
   "display_name": "Python 3 (ipykernel)",
   "language": "python",
   "name": "python3"
  },
  "language_info": {
   "codemirror_mode": {
    "name": "ipython",
    "version": 3
   },
   "file_extension": ".py",
   "mimetype": "text/x-python",
   "name": "python",
   "nbconvert_exporter": "python",
   "pygments_lexer": "ipython3",
   "version": "3.9.13"
  },
  "nbTranslate": {
   "displayLangs": [
    "en",
    "es"
   ],
   "hotkey": "alt-a",
   "langInMainMenu": true,
   "sourceLang": "es",
   "targetLang": "en",
   "useGoogleTranslate": true
  }
 },
 "nbformat": 4,
 "nbformat_minor": 5
}
